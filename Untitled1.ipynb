{
  "nbformat": 4,
  "nbformat_minor": 0,
  "metadata": {
    "colab": {
      "name": "Untitled1.ipynb",
      "version": "0.3.2",
      "provenance": [],
      "include_colab_link": true
    },
    "kernelspec": {
      "name": "python3",
      "display_name": "Python 3"
    },
    "accelerator": "GPU"
  },
  "cells": [
    {
      "cell_type": "markdown",
      "metadata": {
        "id": "view-in-github",
        "colab_type": "text"
      },
      "source": [
        "<a href=\"https://colab.research.google.com/github/sudht/DeepLearningStudy/blob/master/Untitled1.ipynb\" target=\"_parent\"><img src=\"https://colab.research.google.com/assets/colab-badge.svg\" alt=\"Open In Colab\"/></a>"
      ]
    },
    {
      "cell_type": "code",
      "metadata": {
        "id": "enZgjt6uszwF",
        "colab_type": "code",
        "colab": {}
      },
      "source": [
        ""
      ],
      "execution_count": 0,
      "outputs": []
    },
    {
      "cell_type": "code",
      "metadata": {
        "id": "nu8UZ-ZxvzH6",
        "colab_type": "code",
        "colab": {
          "base_uri": "https://localhost:8080/",
          "height": 124
        },
        "outputId": "500f3b0d-a179-42fc-f849-a69e3c4d20ab"
      },
      "source": [
        "from google.colab import drive\n",
        "drive.mount('/gdrive')"
      ],
      "execution_count": 1,
      "outputs": [
        {
          "output_type": "stream",
          "text": [
            "Go to this URL in a browser: https://accounts.google.com/o/oauth2/auth?client_id=947318989803-6bn6qk8qdgf4n4g3pfee6491hc0brc4i.apps.googleusercontent.com&redirect_uri=urn%3Aietf%3Awg%3Aoauth%3A2.0%3Aoob&scope=email%20https%3A%2F%2Fwww.googleapis.com%2Fauth%2Fdocs.test%20https%3A%2F%2Fwww.googleapis.com%2Fauth%2Fdrive%20https%3A%2F%2Fwww.googleapis.com%2Fauth%2Fdrive.photos.readonly%20https%3A%2F%2Fwww.googleapis.com%2Fauth%2Fpeopleapi.readonly&response_type=code\n",
            "\n",
            "Enter your authorization code:\n",
            "··········\n",
            "Mounted at /gdrive\n"
          ],
          "name": "stdout"
        }
      ]
    },
    {
      "cell_type": "code",
      "metadata": {
        "id": "ixj9PeM8vzHU",
        "colab_type": "code",
        "colab": {}
      },
      "source": [
        "with open('/gdrive/My Drive/foo.txt', 'w') as f:\n",
        "  f.write('Hello Google Drive!')\n",
        "!cat '/gdrive/My Drive/foo.txt'"
      ],
      "execution_count": 0,
      "outputs": []
    },
    {
      "cell_type": "code",
      "metadata": {
        "id": "urVHtiqlzVVf",
        "colab_type": "code",
        "colab": {
          "base_uri": "https://localhost:8080/",
          "height": 229
        },
        "outputId": "8a1dd691-ab36-4b91-8091-ebb5da95749a"
      },
      "source": [
        "!wget https://opencv-python-tutroals.readthedocs.io/en/latest/_static/opencv-logo-white.png"
      ],
      "execution_count": 1,
      "outputs": [
        {
          "output_type": "stream",
          "text": [
            "--2019-09-10 11:08:27--  https://opencv-python-tutroals.readthedocs.io/en/latest/_static/opencv-logo-white.png\n",
            "Resolving opencv-python-tutroals.readthedocs.io (opencv-python-tutroals.readthedocs.io)... 104.208.221.96\n",
            "Connecting to opencv-python-tutroals.readthedocs.io (opencv-python-tutroals.readthedocs.io)|104.208.221.96|:443... connected.\n",
            "HTTP request sent, awaiting response... 200 OK\n",
            "Length: 8099 (7.9K) [image/png]\n",
            "Saving to: ‘opencv-logo-white.png’\n",
            "\n",
            "\ropencv-logo-white.p   0%[                    ]       0  --.-KB/s               \ropencv-logo-white.p 100%[===================>]   7.91K  --.-KB/s    in 0s      \n",
            "\n",
            "2019-09-10 11:08:28 (1.21 GB/s) - ‘opencv-logo-white.png’ saved [8099/8099]\n",
            "\n"
          ],
          "name": "stdout"
        }
      ]
    },
    {
      "cell_type": "code",
      "metadata": {
        "id": "YQ8zYPfS0e3g",
        "colab_type": "code",
        "colab": {
          "base_uri": "https://localhost:8080/",
          "height": 238
        },
        "outputId": "8a3168b4-ca31-48a5-a4a2-50c599ddfc42"
      },
      "source": [
        "import cv2\n",
        "import numpy as np\n",
        "from matplotlib import pyplot as plt\n",
        "\n",
        "img = cv2.imread('opencv-logo-white.png')\n",
        "\n",
        "kernel = np.ones((5, 5), np.float32)/0.5\n",
        "dst = cv2.filter2D(img, -1, kernel)\n",
        "\n",
        "plt.subplot(121), plt.imshow(img), plt.title('Original')\n",
        "plt.xticks([]), plt.yticks([])\n",
        "plt.subplot(122), plt.imshow(dst), plt.title('Averaging')\n",
        "plt.xticks([]), plt.yticks([])\n",
        "plt.show()"
      ],
      "execution_count": 7,
      "outputs": [
        {
          "output_type": "display_data",
          "data": {
            "image/png": "[encoded data removed]",
            "text/plain": [
              "<Figure size 432x288 with 2 Axes>"
            ]
          },
          "metadata": {
            "tags": []
          }
        }
      ]
    }
  ]
}